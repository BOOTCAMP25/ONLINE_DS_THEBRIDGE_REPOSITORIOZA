{
 "cells": [
  {
   "cell_type": "code",
   "execution_count": 6,
   "id": "3d574f93-4d43-4aab-89a5-d82876b28e0f",
   "metadata": {},
   "outputs": [
    {
     "name": "stdout",
     "output_type": "stream",
     "text": [
      "<class 'int'> <class 'float'>\n",
      "<class 'float'>\n"
     ]
    },
    {
     "ename": "NameError",
     "evalue": "name 'variable_entero' is not defined",
     "output_type": "error",
     "traceback": [
      "\u001b[1;31m---------------------------------------------------------------------------\u001b[0m",
      "\u001b[1;31mNameError\u001b[0m                                 Traceback (most recent call last)",
      "Cell \u001b[1;32mIn[6], line 9\u001b[0m\n\u001b[0;32m      7\u001b[0m \u001b[38;5;28;01mdel\u001b[39;00m(variable_entero)\n\u001b[0;32m      8\u001b[0m \u001b[38;5;28;01mdel\u001b[39;00m(variable_float)\n\u001b[1;32m----> 9\u001b[0m \u001b[38;5;28mprint\u001b[39m(\u001b[43mvariable_entero\u001b[49m,variable_float)\n",
      "\u001b[1;31mNameError\u001b[0m: name 'variable_entero' is not defined"
     ]
    }
   ],
   "source": [
    "#ejercicio 1\n",
    "variable_entero = 1\n",
    "variable_float = 12.0\n",
    "print(type(variable_entero),type(variable_float))\n",
    "variable = variable_entero+variable_float\n",
    "print(type(variable))\n",
    "del(variable_entero)\n",
    "del(variable_float)\n",
    "print(variable_entero,variable_float)"
   ]
  },
  {
   "cell_type": "code",
   "execution_count": 14,
   "id": "b45c31b9-5307-45eb-a2f1-5232ac851c29",
   "metadata": {},
   "outputs": [
    {
     "name": "stdin",
     "output_type": "stream",
     "text": [
      "Grados 80\n"
     ]
    },
    {
     "name": "stdout",
     "output_type": "stream",
     "text": [
      "1.3962634015954636\n"
     ]
    }
   ],
   "source": [
    "#ejercicio 2\n",
    "import math\n",
    "grados = int(input(\"Grados\"))\n",
    "radianes = grados*(math.pi/180)\n",
    "print(radianes)"
   ]
  },
  {
   "cell_type": "code",
   "execution_count": 18,
   "id": "1969e95d-6d39-4c55-9776-e9b4c24a522c",
   "metadata": {},
   "outputs": [
    {
     "name": "stdin",
     "output_type": "stream",
     "text": [
      "Base? 12\n",
      "Altura? 23\n"
     ]
    },
    {
     "name": "stdout",
     "output_type": "stream",
     "text": [
      "276\n"
     ]
    }
   ],
   "source": [
    "#Ejercicio 3\n",
    "import math\n",
    "base = int(input(\"Base?\"))\n",
    "#print(type(base))\n",
    "altura = int(input(\"Altura?\"))\n",
    "area = base*altura\n",
    "print(area)"
   ]
  },
  {
   "cell_type": "code",
   "execution_count": 33,
   "id": "ee439e52-d40c-44a5-b319-79d9af4d922f",
   "metadata": {},
   "outputs": [
    {
     "name": "stdin",
     "output_type": "stream",
     "text": [
      "Base? -12\n",
      "Altura? 34\n"
     ]
    },
    {
     "name": "stdout",
     "output_type": "stream",
     "text": [
      "-408.0\n"
     ]
    }
   ],
   "source": [
    "# Ejercicio 4\n",
    "import math\n",
    "base = input(\"Base?\")\n",
    "#print(type(base))\n",
    "base_1 = float(base)\n",
    "base.replace(\",\",\".\")\n",
    "#print(type(base_1))\n",
    "altura = input(\"Altura?\")\n",
    "altura.replace(\",\",\".\")\n",
    "altura_1 = float(altura)\n",
    "area = base_1*altura_1\n",
    "print(area)"
   ]
  },
  {
   "cell_type": "code",
   "execution_count": 38,
   "id": "fa3148a8-455b-4a7a-b28b-97c52a70ebcb",
   "metadata": {},
   "outputs": [
    {
     "name": "stdin",
     "output_type": "stream",
     "text": [
      "Cual es tu nombre? Zigor\n",
      "Cual es tu edad? 53\n"
     ]
    },
    {
     "name": "stdout",
     "output_type": "stream",
     "text": [
      "Zigor naciste en el año 1972\n"
     ]
    }
   ],
   "source": [
    "#Ejercicio 5\n",
    "nombre=input(\"Cual es tu nombre?\")\n",
    "edad = input(\"Cual es tu edad?\")\n",
    "edad_1 = int(edad)\n",
    "año_actual = 2025\n",
    "año_actual_1 = int(año_actual)\n",
    "año_nacimiento = año_actual_1-edad_1\n",
    "print(nombre,\"naciste en el año\",año_nacimiento)\n"
   ]
  },
  {
   "cell_type": "code",
   "execution_count": null,
   "id": "d3f022b2-df19-4932-8903-d55a7ad1fdb8",
   "metadata": {},
   "outputs": [],
   "source": []
  }
 ],
 "metadata": {
  "kernelspec": {
   "display_name": "Python 3 (ipykernel)",
   "language": "python",
   "name": "python3"
  },
  "language_info": {
   "codemirror_mode": {
    "name": "ipython",
    "version": 3
   },
   "file_extension": ".py",
   "mimetype": "text/x-python",
   "name": "python",
   "nbconvert_exporter": "python",
   "pygments_lexer": "ipython3",
   "version": "3.13.1"
  }
 },
 "nbformat": 4,
 "nbformat_minor": 5
}
