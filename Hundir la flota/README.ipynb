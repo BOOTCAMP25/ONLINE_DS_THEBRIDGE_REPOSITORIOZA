{
 "cells": [
  {
   "cell_type": "code",
   "execution_count": null,
   "metadata": {},
   "outputs": [],
   "source": []
  },
  {
   "cell_type": "markdown",
   "metadata": {},
   "source": [
    "# El juego consiste en hundir la flota del contrincante.\n",
    "Para ello, debe colocar su propia flota de forma estratégica y encontrar y hundir con los disparos la flota contraria.\n",
    "El juego dispone de una cuadrícula que ocultará al otro jugador: en\n",
    "una debe colocar sus barcos y en la otra irá anotando los resultados de los disparos que\n",
    "realiza en cada turno.\n",
    "El programa coloca en uno de los cuadros los siguientes barcos en posición\n",
    "horizontal o vertical:\n",
    "\n",
    "# 5 barcos que ocupa 5 cuadrados.\n",
    "\n",
    "El jugador dispone de un turno de disparo. Para hacerlo introducira las\n",
    "coordenadas. Por ejemplo “11”, significa que su disparo corresponde a la casilla que se\n",
    "encuentra en esa coordenada.\n",
    "Al disparar, el otro jugador comprobará el resultado en su tablero:\n",
    "# Si la casilla está en blanco, responderá “Agua”.\n",
    "# Si en la casilla se encuentra parte de un barco responderá “Tocado”. \n",
    "En cualquier caso el jugador tiene derecho a un nuevo disparo en el mismo turno.\n",
    " Si en la casilla se encuentra un barco de un cuadro o la última parte de un barco\n",
    "ya tocado, responderá “hundido” y también tiene derecho a un nuevo disparo.\n",
    "\n",
    "Finalmente, gana el jugador que antes consigue hundir la flota.\n"
   ]
  }
 ],
 "metadata": {
  "language_info": {
   "name": "python"
  }
 },
 "nbformat": 4,
 "nbformat_minor": 2
}
