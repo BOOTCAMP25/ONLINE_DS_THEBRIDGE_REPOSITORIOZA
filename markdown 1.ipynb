{
 "cells": [
  {
   "cell_type": "markdown",
   "id": "41d8d2a2-788a-474c-956d-b2ff25c2731d",
   "metadata": {},
   "source": [
    "# cabecera1"
   ]
  },
  {
   "cell_type": "markdown",
   "id": "f7abde17-64e1-4da3-a2a9-e6cf906a7605",
   "metadata": {},
   "source": [
    "## cabecera2"
   ]
  },
  {
   "cell_type": "markdown",
   "id": "67b84d0a-2340-46a2-acb1-3a8618ef538f",
   "metadata": {},
   "source": [
    "### cabecera3\n",
    "#### cabecera4\n",
    "##### cabecera5\n",
    "###### cabecera6\n",
    "####### cabecera7"
   ]
  },
  {
   "cell_type": "markdown",
   "id": "85338bb2-a5f6-455d-a3c5-2218cdb29478",
   "metadata": {},
   "source": [
    "<h1>Header 1</h1>\n",
    "<h2>Headar 2</h2>\n",
    "<h3>Header 3</h3>"
   ]
  },
  {
   "cell_type": "markdown",
   "id": "6d91c005-f47b-46cb-a3cc-7d47bdcb3431",
   "metadata": {},
   "source": [
    "**Texto en negrita**\n",
    "\n",
    "*Texto en cursiva*\n",
    "\n",
    "***Texto en negrita y cursiva***\n",
    "\n",
    "** No es negrita **"
   ]
  },
  {
   "cell_type": "markdown",
   "id": "e5e70347-143f-421c-8917-ec5bd762b37f",
   "metadata": {},
   "source": [
    ">Recuerda la importancia del conocimiento del negocio y del dominio\n",
    ">> Y utilizar atajos de teclado"
   ]
  },
  {
   "cell_type": "code",
   "execution_count": null,
   "id": "713f057a-2f37-4b2e-bdb0-7f92bcde87c5",
   "metadata": {},
   "outputs": [],
   "source": []
  }
 ],
 "metadata": {
  "kernelspec": {
   "display_name": "Python 3 (ipykernel)",
   "language": "python",
   "name": "python3"
  },
  "language_info": {
   "codemirror_mode": {
    "name": "ipython",
    "version": 3
   },
   "file_extension": ".py",
   "mimetype": "text/x-python",
   "name": "python",
   "nbconvert_exporter": "python",
   "pygments_lexer": "ipython3",
   "version": "3.13.1"
  }
 },
 "nbformat": 4,
 "nbformat_minor": 5
}
