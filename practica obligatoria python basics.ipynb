{
 "cells": [
  {
   "cell_type": "code",
   "execution_count": 2,
   "id": "a0976051-1095-4347-8cfa-fdb5aaef8c60",
   "metadata": {},
   "outputs": [
    {
     "name": "stdout",
     "output_type": "stream",
     "text": [
      "Buenas tardes,bienvendo al servicio de pedido online,el precio de nuestras pizzas es de 8,95 para la familiar y 9,90 para la mediana.\n"
     ]
    },
    {
     "name": "stdin",
     "output_type": "stream",
     "text": [
      "Cuantas pizzas familiares desea? 12\n"
     ]
    },
    {
     "name": "stdout",
     "output_type": "stream",
     "text": [
      "Estupendo\n"
     ]
    },
    {
     "name": "stdin",
     "output_type": "stream",
     "text": [
      "Cuantas pizzas medianas desea? 12\n"
     ]
    },
    {
     "name": "stdout",
     "output_type": "stream",
     "text": [
      "Estupendo, se están preparando 12 pizzas familiares y 12 pizzas medianas.\n"
     ]
    },
    {
     "name": "stdin",
     "output_type": "stream",
     "text": [
      "Digame su dirección mikel\n"
     ]
    },
    {
     "name": "stdout",
     "output_type": "stream",
     "text": [
      "Le mandaremos las 24 pizzas a la dirección mikel serán 226.2 Euros Muchas gracias por su pedido.\n"
     ]
    }
   ],
   "source": [
    "#Ejercicio 1\n",
    "print(\"Buenas tardes,bienvendo al servicio de pedido online,el precio de nuestras pizzas es de 8,95 para la familiar y 9,90 para la mediana.\")\n",
    "pizz_familiar = int(input(\"Cuantas pizzas familiares desea?\"))\n",
    "print(\"Estupendo\")\n",
    "pizz_mediana = int(input(\"Cuantas pizzas medianas desea?\"))\n",
    "print(\"Estupendo, se están preparando\",pizz_familiar,\"pizzas familiares y\",pizz_mediana,\"pizzas medianas.\")\n",
    "direcc = input(\"Digame su dirección\")\n",
    "coste_total = (pizz_familiar*8.95) + (pizz_mediana*9.90)\n",
    "total_pizzas = int(pizz_familiar)+int(pizz_mediana)\n",
    "print(\"Le mandaremos las\",total_pizzas,\"pizzas a la dirección\",direcc,\"serán\",coste_total,\"Euros\",\"Muchas gracias por su pedido.\")"
   ]
  },
  {
   "cell_type": "code",
   "execution_count": 14,
   "id": "83b3d8db-cff4-4d71-9582-4515dd442611",
   "metadata": {},
   "outputs": [
    {
     "name": "stdin",
     "output_type": "stream",
     "text": [
      "Inserta tres numeros con comas 1,2,3,4,5,6,7,8,9,0\n"
     ]
    },
    {
     "name": "stdout",
     "output_type": "stream",
     "text": [
      "[1, 2, 3, 4, 5, 6, 7, 8, 9, 0]\n",
      "9\n",
      "0\n",
      "45\n",
      "True\n"
     ]
    }
   ],
   "source": [
    "#Ejercicio 2.1\n",
    "lista = input(\"Inserta tres numeros con comas\")\n",
    "#Ejercicio 2.2\n",
    "lista_cadenas = lista.split(',')\n",
    "lista_enteros = [int(numero) for numero in lista_cadenas]\n",
    "print(lista_enteros)\n",
    "#Ejercicio 2.3\n",
    "max_lista = max(lista_enteros)\n",
    "print(max_lista)\n",
    "min_lista = min(lista_enteros)\n",
    "print(min_lista)\n",
    "suma_lista = sum(lista_enteros)\n",
    "print(suma_lista)\n",
    "#Ejercicio 2.4\n",
    "print(max_lista-min_lista == suma_lista/5)\n"
   ]
  },
  {
   "cell_type": "code",
   "execution_count": null,
   "id": "4c6887ea-24d6-4899-969c-0e93cf1383c7",
   "metadata": {},
   "outputs": [],
   "source": []
  }
 ],
 "metadata": {
  "kernelspec": {
   "display_name": "Python 3 (ipykernel)",
   "language": "python",
   "name": "python3"
  },
  "language_info": {
   "codemirror_mode": {
    "name": "ipython",
    "version": 3
   },
   "file_extension": ".py",
   "mimetype": "text/x-python",
   "name": "python",
   "nbconvert_exporter": "python",
   "pygments_lexer": "ipython3",
   "version": "3.13.1"
  }
 },
 "nbformat": 4,
 "nbformat_minor": 5
}
