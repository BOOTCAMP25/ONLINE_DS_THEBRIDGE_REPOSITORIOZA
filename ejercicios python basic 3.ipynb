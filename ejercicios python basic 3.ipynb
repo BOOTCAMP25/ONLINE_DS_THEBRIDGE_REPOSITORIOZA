{
 "cells": [
  {
   "cell_type": "code",
   "execution_count": 5,
   "id": "46a153e3-7cb8-44f0-aad9-4a9d701157dc",
   "metadata": {},
   "outputs": [
    {
     "name": "stdout",
     "output_type": "stream",
     "text": [
      "False\n",
      "True\n",
      "False\n",
      "False\n",
      "True\n"
     ]
    }
   ],
   "source": [
    "#Ejercicio 1\n",
    "a = 4\n",
    "b = \"text\"\n",
    "c = 4.1\n",
    "print(a ==b)\n",
    "print(a !=b)\n",
    "print(a > c)\n",
    "print(c<= a)\n",
    "print(b != c)"
   ]
  },
  {
   "cell_type": "code",
   "execution_count": 8,
   "id": "22357f0c-569c-4e18-b36a-310ea186fe0f",
   "metadata": {},
   "outputs": [
    {
     "name": "stdin",
     "output_type": "stream",
     "text": [
      "Cual es la variable 1? retro\n",
      "Cual es la variable 2? retro\n"
     ]
    },
    {
     "name": "stdout",
     "output_type": "stream",
     "text": [
      "True\n"
     ]
    }
   ],
   "source": [
    "#Ejercicio 2\n",
    "variable_1 = input(\"Cual es la variable 1?\")\n",
    "variable_2 = input(\"Cual es la variable 2?\")\n",
    "resultado = variable_1 == variable_2\n",
    "print(resultado)"
   ]
  },
  {
   "cell_type": "code",
   "execution_count": 16,
   "id": "efcc6ad6-83fb-430a-a68e-550ed32c781b",
   "metadata": {},
   "outputs": [
    {
     "name": "stdin",
     "output_type": "stream",
     "text": [
      "Cual es la variable 1? 12\n",
      "Cual es la variable 2? 23\n",
      "Cual es la variable 3? 24\n"
     ]
    },
    {
     "name": "stdout",
     "output_type": "stream",
     "text": [
      "Los tres son iguales False\n",
      "Dos son iguales False\n"
     ]
    }
   ],
   "source": [
    "#Ejercicio 3\n",
    "variable_1 = input(\"Cual es la variable 1?\")\n",
    "variable_2 = input(\"Cual es la variable 2?\")\n",
    "variable_3 = input(\"Cual es la variable 3?\")\n",
    "resultado = (variable_1 == variable_2) and (variable_1 == variable_3)\n",
    "resultado_1 = (variable_1 == variable_2) or (variable_1 == variable_3)\n",
    "print(\"Los tres son iguales\",resultado)\n",
    "print(\"Dos son iguales\",resultado_1)"
   ]
  },
  {
   "cell_type": "code",
   "execution_count": null,
   "id": "d25f869b-ee8e-4228-b972-8dc012f64e59",
   "metadata": {},
   "outputs": [],
   "source": [
    "#Ejercicio 4\n",
    "False\n",
    "False\n",
    "False\n",
    "False"
   ]
  },
  {
   "cell_type": "code",
   "execution_count": null,
   "id": "99dcb4ca-fefa-47d0-a81b-38e0e46da8ae",
   "metadata": {},
   "outputs": [],
   "source": []
  }
 ],
 "metadata": {
  "kernelspec": {
   "display_name": "Python 3 (ipykernel)",
   "language": "python",
   "name": "python3"
  },
  "language_info": {
   "codemirror_mode": {
    "name": "ipython",
    "version": 3
   },
   "file_extension": ".py",
   "mimetype": "text/x-python",
   "name": "python",
   "nbconvert_exporter": "python",
   "pygments_lexer": "ipython3",
   "version": "3.13.1"
  }
 },
 "nbformat": 4,
 "nbformat_minor": 5
}
