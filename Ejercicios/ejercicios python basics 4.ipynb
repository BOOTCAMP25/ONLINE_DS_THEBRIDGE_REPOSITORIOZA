{
 "cells": [
  {
   "cell_type": "code",
   "execution_count": 4,
   "id": "e6ebaa41-a5f6-48e3-910a-9775fe62d0d6",
   "metadata": {},
   "outputs": [
    {
     "name": "stdout",
     "output_type": "stream",
     "text": [
      "8\n",
      "17\n",
      "63.451\n",
      "74\n"
     ]
    }
   ],
   "source": [
    "#Ejercicio 1.1\n",
    "maximo = max([4,6,8,-1])\n",
    "print(maximo)\n",
    "#Ejercicio 1.2\n",
    "suma = sum([4,6,8,-1])\n",
    "print(suma)\n",
    "#Ejercicio 1.3\n",
    "numero_float = 63.451256965\n",
    "numero_redondeo = round (numero_float,3)\n",
    "print(numero_redondeo)\n",
    "#Ejercicio 1.4\n",
    "Valor = -74\n",
    "Valor_abs = abs(Valor)\n",
    "print(Valor_abs)"
   ]
  },
  {
   "cell_type": "code",
   "execution_count": 29,
   "id": "36d7b526-f816-43e1-9762-8a1b29b03e25",
   "metadata": {},
   "outputs": [
    {
     "name": "stdout",
     "output_type": "stream",
     "text": [
      "EN UN LUGAR DE LA MANCHA DE, CUYO NOMBRE NO QUIERO ACORDARME.\n",
      "en un lugar de la mancha de, cuyo nombre no quiero acordarme.\n",
      "En Un Lugar De La Mancha De, Cuyo Nombre No Quiero Acordarme.\n",
      "['En', 'un', 'lugar', 'de', 'la', 'mancha', 'de,', 'cuyo', 'nombre', 'no', 'quiero', 'acordarme.']\n",
      "En un lugar de la mancha de; cuyo nombre no quiero acordarme.\n",
      "En un lugr de l mnch de, cuyo nombre no quiero cordrme.\n"
     ]
    }
   ],
   "source": [
    "#Ejercicio 2.1\n",
    "frase = (\"En un lugar de la mancha de, cuyo nombre no quiero acordarme.\")\n",
    "print (frase.upper())\n",
    "#Ejercicio 2.2\n",
    "print (frase.lower())\n",
    "#Ejercicio 2.3\n",
    "def capitalizar_primera_letra(frase):\n",
    "    palabras = frase.split()\n",
    "    palabras_capitalizadas = [palabra.capitalize() for palabra in palabras]\n",
    "    return ' '.join(palabras_capitalizadas)\n",
    "texto_modificado = capitalizar_primera_letra(frase)\n",
    "print(texto_modificado)\n",
    "#Ejercicio 2.4\n",
    "print(frase.split(\" \"))\n",
    "#Ejercicio 2.5\n",
    "print(frase.replace(\",\",\";\"))\n",
    "#Ejercicio 2.6\n",
    "print(frase.replace(\"a\",\"\"))"
   ]
  },
  {
   "cell_type": "code",
   "execution_count": 28,
   "id": "982b86f9-13c3-4be0-ab57-3ef17b5a97c1",
   "metadata": {},
   "outputs": [
    {
     "name": "stdout",
     "output_type": "stream",
     "text": [
      "[1, 2, 3]\n",
      "[1, 2, 3, 4]\n",
      "10\n",
      "[1, 3, 4]\n",
      "[1, 5, 3, 4]\n",
      "[1, 5, 3, 4, 4, 5, 6, 7]\n",
      "[1, 3, 4, 4, 5, 5, 6, 7]\n",
      "[7, 6, 5, 5, 4, 4, 3, 1]\n"
     ]
    }
   ],
   "source": [
    "#Ejercicio 3.1\n",
    "list = [1,2,3]\n",
    "print(list)\n",
    "#Ejercicio 3.2\n",
    "list.append(4)\n",
    "print(list)\n",
    "#Ejercicio 3.3\n",
    "suma_list = sum(list)\n",
    "print(suma_list)\n",
    "#Ejercicio 3.4\n",
    "list.pop(1)\n",
    "print(list)\n",
    "#Ejercicio 3.5\n",
    "list.insert(1,5)\n",
    "print(list)\n",
    "#Ejercicio 3.6\n",
    "list_2 = [4,5,6,7]\n",
    "list_3 = list+list_2\n",
    "print(list_3)\n",
    "#Ejercicio 3.7\n",
    "list_3.sort()\n",
    "print(list_3)\n",
    "#Ejercicio 3.8\n",
    "list_4 = sorted(list_3,reverse=True)\n",
    "print (list_4)"
   ]
  },
  {
   "cell_type": "code",
   "execution_count": null,
   "id": "d97b0e86-58c7-4896-b6fe-efbd47bc0950",
   "metadata": {},
   "outputs": [],
   "source": []
  },
  {
   "cell_type": "code",
   "execution_count": null,
   "id": "6817eabe-ad17-42f7-9a2f-afb6a018c87e",
   "metadata": {},
   "outputs": [],
   "source": []
  }
 ],
 "metadata": {
  "kernelspec": {
   "display_name": "Python 3 (ipykernel)",
   "language": "python",
   "name": "python3"
  },
  "language_info": {
   "codemirror_mode": {
    "name": "ipython",
    "version": 3
   },
   "file_extension": ".py",
   "mimetype": "text/x-python",
   "name": "python",
   "nbconvert_exporter": "python",
   "pygments_lexer": "ipython3",
   "version": "3.13.1"
  }
 },
 "nbformat": 4,
 "nbformat_minor": 5
}
