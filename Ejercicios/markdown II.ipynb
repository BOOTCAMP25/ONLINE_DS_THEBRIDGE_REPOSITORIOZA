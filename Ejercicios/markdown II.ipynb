{
 "cells": [
  {
   "cell_type": "markdown",
   "id": "a9044442-73d2-452c-9974-347e2e0a0ebf",
   "metadata": {},
   "source": [
    "\"En un lugar de la mancha\"\n",
    "\"Veinte años despues frente al peloton de fusilamiento\""
   ]
  },
  {
   "cell_type": "code",
   "execution_count": null,
   "id": "f693f368-4712-47b0-8a1b-63372ae7ebe2",
   "metadata": {},
   "outputs": [],
   "source": []
  },
  {
   "cell_type": "markdown",
   "id": "e9579c35-b053-459e-b9d3-fd1a9e8907b9",
   "metadata": {},
   "source": [
    "\"En un lugar de la mancha\"  \n",
    "\"Veinte años despues frente al peloton de fusilamiento\""
   ]
  },
  {
   "cell_type": "markdown",
   "id": "3b674700-cabb-460c-ac0c-8fe5d139c392",
   "metadata": {},
   "source": [
    "1. Primer elemento\n",
    "2. Segundo elemento"
   ]
  },
  {
   "cell_type": "markdown",
   "id": "f1fa00c9-b9c8-45f3-8c3f-693c40ae6bce",
   "metadata": {},
   "source": [
    "* Elemento 1\n",
    "* Elemento 2\n",
    "- Elemento 3\n",
    "+ Elemento 4\n"
   ]
  },
  {
   "cell_type": "markdown",
   "id": "74c13095-d81a-4c4c-925e-5cf6c8b13a8e",
   "metadata": {},
   "source": [
    "```python\n",
    "variable=\"Esto es una variable\""
   ]
  },
  {
   "cell_type": "markdown",
   "id": "99299ba4-68aa-4b1f-a6d7-ca6d1eeaca52",
   "metadata": {},
   "source": [
    "***\n",
    "---"
   ]
  },
  {
   "cell_type": "markdown",
   "id": "6e5ef1e3-ea4f-4937-8232-78ec64a178ea",
   "metadata": {},
   "source": [
    "![esta en el mismo directorio](./error.png)"
   ]
  },
  {
   "cell_type": "markdown",
   "id": "bff039ff-1b28-4064-8719-81f9039ef032",
   "metadata": {},
   "source": [
    "![este es un ejemplo de imagen que no esta en mi directorio](./img/error.png)"
   ]
  },
  {
   "cell_type": "markdown",
   "id": "d05fab35-a55f-416c-b79c-8d20d1af4e9d",
   "metadata": {},
   "source": [
    "<img src=\"./img/error.png\" width = 800>"
   ]
  },
  {
   "cell_type": "code",
   "execution_count": null,
   "id": "b1c705a2-ffd4-4298-9d38-a71feef46f5f",
   "metadata": {},
   "outputs": [],
   "source": []
  },
  {
   "cell_type": "code",
   "execution_count": null,
   "id": "80b21dc1-bd91-4730-81d2-8e9db5004f77",
   "metadata": {},
   "outputs": [],
   "source": []
  }
 ],
 "metadata": {
  "kernelspec": {
   "display_name": "Python 3 (ipykernel)",
   "language": "python",
   "name": "python3"
  },
  "language_info": {
   "codemirror_mode": {
    "name": "ipython",
    "version": 3
   },
   "file_extension": ".py",
   "mimetype": "text/x-python",
   "name": "python",
   "nbconvert_exporter": "python",
   "pygments_lexer": "ipython3",
   "version": "3.13.1"
  }
 },
 "nbformat": 4,
 "nbformat_minor": 5
}
