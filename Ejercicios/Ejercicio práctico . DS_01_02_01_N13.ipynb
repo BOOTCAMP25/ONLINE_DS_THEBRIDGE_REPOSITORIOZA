{
 "cells": [
  {
   "cell_type": "code",
   "execution_count": 1,
   "id": "ce19facc-a805-4a79-9475-5c4dbd96fdb3",
   "metadata": {},
   "outputs": [
    {
     "name": "stdout",
     "output_type": "stream",
     "text": [
      "[1, 4, 9, 16, 25]\n"
     ]
    }
   ],
   "source": [
    "#Ejercicio 1\n",
    "ejer_2 = [1,2,3,4,5]\n",
    "lista_cuadrados =[]\n",
    "# Usando un bucle for\n",
    "for x in ejer_2:\n",
    "    lista_cuadrados.append(x**2)\n",
    "\n",
    "print(lista_cuadrados)"
   ]
  },
  {
   "cell_type": "code",
   "execution_count": 2,
   "id": "593043be-6d6e-46ca-888d-9e73db277ef8",
   "metadata": {},
   "outputs": [
    {
     "name": "stdout",
     "output_type": "stream",
     "text": [
      "Elementos duplicados: ['es', 'binario']\n"
     ]
    }
   ],
   "source": [
    "#Ejercicio 2\n",
    "def encontrar_duplicados(lista):\n",
    "    duplicados = []\n",
    "    vistos = set()\n",
    "    for elemento in lista:\n",
    "        if elemento in vistos:\n",
    "            duplicados.append(elemento)\n",
    "        else:\n",
    "            vistos.add(elemento)\n",
    "    return duplicados\n",
    "mi_lista = [\"Un\", \"árbol\", \"binario\", \"es\", \"una\", \"estructura\", \"de\", \"un\", \"tipo\", \"particular\", \"a\", \"veces\", \"no\", \"es\", \"ni\", \"binario\"]\n",
    "duplicados = encontrar_duplicados(mi_lista)\n",
    "print(\"Elementos duplicados:\", duplicados)\n"
   ]
  },
  {
   "cell_type": "code",
   "execution_count": 5,
   "id": "45ab78b5-02b6-4b70-94da-4e3dbfff400c",
   "metadata": {},
   "outputs": [
    {
     "name": "stdout",
     "output_type": "stream",
     "text": [
      "El número 3 se repite 7 veces en la tupla.\n",
      "(3, 29, 45, 67, 78, 90)\n",
      "La tupla tiene 26 elementos.\n"
     ]
    }
   ],
   "source": [
    "#Ejercicio 3.1\n",
    "# Definimos la tupla\n",
    "mi_tupla = (3, 20, 3, 47, 19, 3, 29, 45, 67, 78, 90, 3, 3, 5, 2, 4, 7, 9, 4, 2, 4, 3, 3, 4, 6, 7)\n",
    "\n",
    "# Número a contar\n",
    "numero_a_contar = 3\n",
    "\n",
    "# Contamos cuántas veces se repite el número en la tupla\n",
    "repeticiones = mi_tupla.count(numero_a_contar)\n",
    "\n",
    "print(f\"El número {numero_a_contar} se repite {repeticiones} veces en la tupla.\")\n",
    "#Ejercicio 3.2\n",
    "# Tupla original\n",
    "tupla_original = (3, 20, 3, 47, 19, 3, 29, 45, 67, 78, 90, 3, 3, 5, 2, 4, 7, 9, 4, 2, 4, 3, 3, 4, 6, 7)\n",
    "\n",
    "# Crear una nueva tupla con los elementos desde la posición 5 a la 10\n",
    "nueva_tupla = tupla_original[5:11]\n",
    "\n",
    "print(nueva_tupla)\n",
    "\n",
    "#Ejercicio 3.3\n",
    "# Tupla de ejemplo\n",
    "mi_tupla = (3, 20, 3, 47, 19, 3, 29, 45, 67, 78, 90, 3, 3, 5, 2, 4, 7, 9, 4, 2, 4, 3, 3, 4, 6, 7)\n",
    "numero_de_elementos = len(mi_tupla)\n",
    "print(f\"La tupla tiene {numero_de_elementos} elementos.\")\n"
   ]
  },
  {
   "cell_type": "code",
   "execution_count": 6,
   "id": "fe000a0b-779f-4d6c-8143-900e4da52a51",
   "metadata": {},
   "outputs": [
    {
     "name": "stdout",
     "output_type": "stream",
     "text": [
      "El número 60 no está en la tupla.\n"
     ]
    }
   ],
   "source": [
    "#Ejercicio 4\n",
    "# Definir la tupla\n",
    "mi_tupla = (3, 20, 3, 47, 19, 3, 29, 45, 67, 78, 90, 3, 3, 5, 2, 4, 7, 9, 4, 2, 4, 3, 3, 4, 6, 7)\n",
    "\n",
    "# Comprobar si el número 60 está en la tupla\n",
    "if 60 in mi_tupla:\n",
    "    print(\"El número 60 está en la tupla.\")\n",
    "else:\n",
    "    print(\"El número 60 no está en la tupla.\")\n"
   ]
  },
  {
   "cell_type": "code",
   "execution_count": 7,
   "id": "7a188707-9e96-45ec-a29c-1ed2e1089b42",
   "metadata": {},
   "outputs": [
    {
     "name": "stdout",
     "output_type": "stream",
     "text": [
      "[3, 20, 3, 47, 19, 3, 29, 45, 67, 78, 90, 3, 3, 5, 2, 4, 7, 9, 4, 2, 4, 3, 3, 4, 6, 7]\n"
     ]
    }
   ],
   "source": [
    "#Ejercicio 5\n",
    "tupla_ejercicio_3 = (3, 20, 3, 47, 19, 3, 29, 45, 67, 78, 90, 3, 3, 5, 2, 4, 7, 9, 4, 2, 4, 3, 3, 4, 6, 7)\n",
    "lista_ejercicio_3 = list(tupla_ejercicio_3)\n",
    "print(lista_ejercicio_3)\n"
   ]
  },
  {
   "cell_type": "code",
   "execution_count": 8,
   "id": "9d33ec41-3a0a-4e7c-965e-14e9740afdfb",
   "metadata": {},
   "outputs": [
    {
     "name": "stdout",
     "output_type": "stream",
     "text": [
      "El resultado de multiplicar todos los valores es: 19326120\n"
     ]
    }
   ],
   "source": [
    "#Ejercicio 6\n",
    "def multiplicar_valores(diccionario):\n",
    "    resultado = 1\n",
    "    for valor in diccionario.values():\n",
    "        resultado *= valor\n",
    "    return resultado\n",
    "\n",
    "ejer_6 = {1: 11, 2: 22, 3: 33, 4: 44, 5: 55}\n",
    "resultado = multiplicar_valores(ejer_6)\n",
    "print(f\"El resultado de multiplicar todos los valores es: {resultado}\")\n"
   ]
  },
  {
   "cell_type": "code",
   "execution_count": 10,
   "id": "355386a3-5889-4d43-965e-57778e2e83d5",
   "metadata": {},
   "outputs": [
    {
     "name": "stdout",
     "output_type": "stream",
     "text": [
      "{'titulo': 'Cien años de soledad', 'autor': 'Gabriel García Márquez', 'idioma_original': 'Español', 'año_de_publicación': 1967}\n",
      "['libro1', 'libro2', 'libro3', 'libro4']\n"
     ]
    }
   ],
   "source": [
    "#Ejercicio 7.1\n",
    "libro = {\n",
    "    \"titulo\": \"Cien años de soledad\",\n",
    "    \"autor\": \"Gabriel García Márquez\",\n",
    "    \"idioma_original\": \"Español\",\n",
    "    \"año_de_publicación\": 1967\n",
    "}\n",
    "\n",
    "print(libro)\n",
    "#Ejercicio 7.2\n",
    "# Crear una lista vacía llamada librería\n",
    "librería = []\n",
    "\n",
    "#Ejercicio 7.3\n",
    "librería = [\"libro1\", \"libro2\", \"libro3\", \"libro4\"]\n",
    "\n",
    "print(librería)"
   ]
  },
  {
   "cell_type": "code",
   "execution_count": 14,
   "id": "bfd7cb9d-0816-47bd-8363-acd8222d77ef",
   "metadata": {},
   "outputs": [
    {
     "name": "stdout",
     "output_type": "stream",
     "text": [
      "{'titulo': 'Cien años de soledad', 'autor': 'Gabriel García Márquez', 'idioma_original': 'Esperanto', 'año_de_publicación': 1967}\n"
     ]
    }
   ],
   "source": [
    "#Ejercicio 8\n",
    "libros = [{\n",
    "    \"titulo\": \"Cien años de soledad\",\n",
    "    \"autor\": \"Gabriel García Márquez\",\n",
    "    \"idioma_original\": \"Español\",\n",
    "    \"año_de_publicación\": 1967\n",
    "}]\n",
    "# Modificar el idioma de todos los libros a \"Esperanto\"\n",
    "for libro in libros:\n",
    "    libro[\"idioma_original\"] = \"Esperanto\"\n",
    "\n",
    "# Imprimir la lista de libros para verificar los cambios\n",
    "for libro in libros:\n",
    "    print(libro)\n"
   ]
  },
  {
   "cell_type": "code",
   "execution_count": 16,
   "id": "6ef0b22c-9051-4555-a7c5-e6463f30c9c5",
   "metadata": {},
   "outputs": [
    {
     "name": "stdin",
     "output_type": "stream",
     "text": [
      "Introduce el título del libro que buscas:  1971\n"
     ]
    },
    {
     "name": "stdout",
     "output_type": "stream",
     "text": [
      "ese no lo tengo mola\n"
     ]
    }
   ],
   "source": [
    "#Ejercicio 9.1-Ejercicio 9.2\n",
    "# Lista de libros disponibles en la librería\n",
    "libros_disponibles = [\n",
    "    \"Cien años de soledad\",\n",
    "    \"Don Quijote de la Mancha\",\n",
    "    \"La sombra del viento\",\n",
    "    \"El amor en los tiempos del cólera\",\n",
    "    \"1984\",\n",
    "    \"El principito\"\n",
    "]\n",
    "\n",
    "def buscar_libro(titulo):\n",
    "    if titulo in libros_disponibles:\n",
    "        return f\"El libro '{titulo}' está disponible en la librería.\"\n",
    "    else:\n",
    "        return \"ese no lo tengo mola\"\n",
    "\n",
    "titulo = input(\"Introduce el título del libro que buscas: \")\n",
    "resultado = buscar_libro(titulo)\n",
    "print(resultado)\n"
   ]
  },
  {
   "cell_type": "code",
   "execution_count": 17,
   "id": "ac6a1668-1f7f-448b-b284-c5d7afdf4574",
   "metadata": {},
   "outputs": [
    {
     "name": "stdout",
     "output_type": "stream",
     "text": [
      "Argumentos duplicados: ['binario', 'es']\n"
     ]
    }
   ],
   "source": [
    "#Ejercicio 10\n",
    "def encontrar_duplicados(*args):\n",
    "    # Crear un diccionario para contar las ocurrencias de cada argumento\n",
    "    contador = {}\n",
    "    for arg in args:\n",
    "        if arg in contador:\n",
    "            contador[arg] += 1\n",
    "        else:\n",
    "            contador[arg] = 1\n",
    "    \n",
    "    # Filtrar los argumentos que tienen más de una ocurrencia\n",
    "    duplicados = [arg for arg, count in contador.items() if count > 1]\n",
    "    \n",
    "    return duplicados\n",
    "\n",
    "argumentos = [\"Un\", \"árbol\", \"binario\", \"es\", \"una\", \"estructura\", \"de\", \"un\", \"tipo\", \"particular\", \"a\", \"veces\", \"no\", \"es\", \"ni\", \"binario\"]\n",
    "duplicados = encontrar_duplicados(*argumentos)\n",
    "print(\"Argumentos duplicados:\", duplicados)\n"
   ]
  },
  {
   "cell_type": "code",
   "execution_count": null,
   "id": "befc6cd4-7c24-4d2c-b79b-b71efba97b94",
   "metadata": {},
   "outputs": [],
   "source": [
    "#Ejercicio 11\n"
   ]
  },
  {
   "cell_type": "code",
   "execution_count": 20,
   "id": "544e3b4f-a014-4c26-8f41-f50610854e72",
   "metadata": {},
   "outputs": [
    {
     "name": "stdin",
     "output_type": "stream",
     "text": [
      "Por favor, ingrese su dirección de correo electrónico:  holamundo@mundo.com\n"
     ]
    },
    {
     "name": "stdout",
     "output_type": "stream",
     "text": [
      "La dirección de correo electrónico es válida.\n"
     ]
    }
   ],
   "source": [
    "#Ejercicio 12\n",
    "import re\n",
    "\n",
    "def es_direccion_valida(email):\n",
    "    # Verificar si el email contiene el símbolo @\n",
    "    if re.match(r\"[^@]+@[^@]+\\.[^@]+\", email):\n",
    "        return True\n",
    "    return False\n",
    "\n",
    "# Solicitar al usuario que ingrese su dirección de correo electrónico\n",
    "email_usuario = input(\"Por favor, ingrese su dirección de correo electrónico: \")\n",
    "\n",
    "# Verificar si la dirección es válida\n",
    "if es_direccion_valida(email_usuario):\n",
    "    print(\"La dirección de correo electrónico es válida.\")\n",
    "else:\n",
    "    print(\"La dirección de correo electrónico no es válida.\")\n"
   ]
  },
  {
   "cell_type": "code",
   "execution_count": 26,
   "id": "2fd0dcb5-0a66-4604-9fbc-9d999f45eddf",
   "metadata": {},
   "outputs": [
    {
     "name": "stdin",
     "output_type": "stream",
     "text": [
      "Por favor, ingrese su DNI:  30555666X\n"
     ]
    },
    {
     "name": "stdout",
     "output_type": "stream",
     "text": [
      "None\n"
     ]
    }
   ],
   "source": [
    "#Ejercicio 13\n",
    "def es_dni_valido(dni):\n",
    "    \"\"\"\n",
    "    Comprueba si un DNI español es válido.\n",
    "    \n",
    "    Args:\n",
    "    dni (str): El DNI a comprobar.\n",
    "    \n",
    "    Returns:\n",
    "    bool: True si el DNI es válido, False en caso contrario.\n",
    "    \"\"\"\n",
    "    letras_dni = \"TRWAGMYFPDXBNJZSQVHLCKE\"\n",
    "    \n",
    "    # Comprobar que el DNI tiene 9 caracteres y que los primeros 8 son dígitos\n",
    "    if len(dni) != 9 or not dni[:-1].isdigit():\n",
    "        return False\n",
    "    \n",
    "    # Extraer los dígitos y la letra del DNI\n",
    "    numeros = int(dni[:-1])\n",
    "    letra = dni[-1].upper()\n",
    "    \n",
    "    # Calcular la letra correspondiente\n",
    "    letra_correcta = letras_dni[numeros % 23]\n",
    "    \n",
    "    # Comprobar si la letra es correcta\n",
    "\n",
    "DNI_usuario = input(\"Por favor, ingrese su DNI: \")\n",
    "\n",
    "print(es_dni_valido(DNI_usuario))  # Debería devolver True o False dependiendo de la validez\n"
   ]
  },
  {
   "cell_type": "code",
   "execution_count": null,
   "id": "02b428b3-3f93-498c-8d46-70e8498c4934",
   "metadata": {},
   "outputs": [],
   "source": []
  }
 ],
 "metadata": {
  "kernelspec": {
   "display_name": "Python 3 (ipykernel)",
   "language": "python",
   "name": "python3"
  },
  "language_info": {
   "codemirror_mode": {
    "name": "ipython",
    "version": 3
   },
   "file_extension": ".py",
   "mimetype": "text/x-python",
   "name": "python",
   "nbconvert_exporter": "python",
   "pygments_lexer": "ipython3",
   "version": "3.13.1"
  }
 },
 "nbformat": 4,
 "nbformat_minor": 5
}
